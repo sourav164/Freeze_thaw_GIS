{
 "cells": [
  {
   "cell_type": "code",
   "execution_count": 33,
   "id": "a412dc86",
   "metadata": {},
   "outputs": [],
   "source": [
    "def saturation_cal(cell_no, rain_int, rain_dur, hydrlic_conduc=None):\n",
    "    if cell_no==188:\n",
    "        saturation = 22.31+2.70*rain_int+3.31*rain_dur\n",
    "    \n",
    "    elif cell_no==189:\n",
    "        saturation = 20.65+3.61*rain_int+3.15*rain_dur\n",
    "    \n",
    "    elif cell_no==127:\n",
    "        saturation = 18.97+3.27*rain_int+2.71*rain_dur\n",
    "    \n",
    "    else:\n",
    "        if isinstance(hydrlic_conduc, (int, float)): \n",
    "            saturation = 21.63+3.60*rain_int+2.83*rain_dur-0.34*hydrlic_conduc\n",
    "            \n",
    "    return saturation"
   ]
  },
  {
   "cell_type": "code",
   "execution_count": 35,
   "id": "1af224c6",
   "metadata": {},
   "outputs": [
    {
     "name": "stdout",
     "output_type": "stream",
     "text": [
      "70.08\n"
     ]
    }
   ],
   "source": [
    "def mr_val ()"
   ]
  },
  {
   "cell_type": "code",
   "execution_count": 8,
   "id": "5f540850",
   "metadata": {},
   "outputs": [
    {
     "data": {
      "text/plain": [
       "True"
      ]
     },
     "execution_count": 8,
     "metadata": {},
     "output_type": "execute_result"
    }
   ],
   "source": [
    "og M_R/M_(R-OPT) =a+(b-a)/(1+exp⁡[ln⁡(-b/a)+K_m (S-S_OPT )])"
   ]
  },
  {
   "cell_type": "code",
   "execution_count": null,
   "id": "ade8b84b",
   "metadata": {},
   "outputs": [],
   "source": []
  }
 ],
 "metadata": {
  "kernelspec": {
   "display_name": "Python 3 (ipykernel)",
   "language": "python",
   "name": "python3"
  },
  "language_info": {
   "codemirror_mode": {
    "name": "ipython",
    "version": 3
   },
   "file_extension": ".py",
   "mimetype": "text/x-python",
   "name": "python",
   "nbconvert_exporter": "python",
   "pygments_lexer": "ipython3",
   "version": "3.10.9"
  }
 },
 "nbformat": 4,
 "nbformat_minor": 5
}
