{
 "cells": [
  {
   "cell_type": "code",
   "execution_count": null,
   "metadata": {},
   "outputs": [],
   "source": [
    "# from csv file\n",
    "location = \n",
    "date = \n",
    "SOPT\n",
    "MROPT\n",
    "hydrlic_conduc\n"
   ]
  },
  {
   "cell_type": "code",
   "execution_count": null,
   "metadata": {},
   "outputs": [],
   "source": [
    "#fixed value \n",
    "a = -0.3123\n",
    "b = 0.3\n",
    "km = 6.8157\n",
    "\n",
    "\n",
    "SOPT = .2625\n",
    "MROPT = 28000\n",
    "\n",
    "def saturation_cal(cell_no, rain_int, rain_dur, hydrlic_conduc=None):\n",
    "    if cell_no==188:\n",
    "        saturation = 22.31+2.70*rain_int+3.31*rain_dur\n",
    "    \n",
    "    elif cell_no==189:\n",
    "        saturation = 20.65+3.61*rain_int+3.15*rain_dur\n",
    "    \n",
    "    elif cell_no==127:\n",
    "        saturation = 18.97+3.27*rain_int+2.71*rain_dur\n",
    "    \n",
    "    else:\n",
    "        if isinstance(hydrlic_conduc, (int, float)): \n",
    "            saturation = 21.63+3.60*rain_int+2.83*rain_dur-0.34*hydrlic_conduc\n",
    "        else:\n",
    "            raise Exception(\"Provide correct hydraulic conductivity value\")\n",
    "            \n",
    "    return saturation\n",
    "\n",
    "\n",
    "def mr_val (saturation, a, b, km, SOPT, MROPT):\n",
    "    right_side= a+(b-a)/(1+math.exp(math.log(-b/a)+km*(saturation-SOPT)))\n",
    "    MR = MROPT*math.pow(10, right_side)\n",
    "    return MR\n"
   ]
  }
 ],
 "metadata": {
  "kernelspec": {
   "display_name": "Python 3",
   "language": "python",
   "name": "python3"
  },
  "language_info": {
   "codemirror_mode": {
    "name": "ipython",
    "version": 3
   },
   "file_extension": ".py",
   "mimetype": "text/x-python",
   "name": "python",
   "nbconvert_exporter": "python",
   "pygments_lexer": "ipython3",
   "version": "3.8.5"
  }
 },
 "nbformat": 4,
 "nbformat_minor": 4
}
